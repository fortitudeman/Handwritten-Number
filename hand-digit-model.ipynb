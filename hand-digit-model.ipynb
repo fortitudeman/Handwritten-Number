{
 "cells": [
  {
   "cell_type": "code",
   "execution_count": 1,
   "metadata": {},
   "outputs": [],
   "source": [
    "import tensorflow as tf\n",
    "from tensorflow import keras"
   ]
  },
  {
   "cell_type": "markdown",
   "metadata": {},
   "source": [
    "### Load Data"
   ]
  },
  {
   "cell_type": "code",
   "execution_count": 2,
   "metadata": {},
   "outputs": [
    {
     "data": {
      "text/plain": [
       "(60000, 28, 28)"
      ]
     },
     "execution_count": 2,
     "metadata": {},
     "output_type": "execute_result"
    }
   ],
   "source": [
    "(x_train,y_train),(x_test,y_test) = keras.datasets.mnist.load_data()\n",
    "x_train.shape"
   ]
  },
  {
   "cell_type": "code",
   "execution_count": 3,
   "metadata": {},
   "outputs": [],
   "source": [
    "%matplotlib inline\n",
    "import matplotlib as mpl\n",
    "import matplotlib.pyplot as plt"
   ]
  },
  {
   "cell_type": "code",
   "execution_count": 4,
   "metadata": {},
   "outputs": [
    {
     "data": {
      "image/png": "[encoded data removed]",
      "text/plain": [
       "<Figure size 432x288 with 1 Axes>"
      ]
     },
     "metadata": {
      "needs_background": "light"
     },
     "output_type": "display_data"
    }
   ],
   "source": [
    "some_digit = x_test[0]\n",
    "plt.imshow(some_digit,cmap = mpl.cm.binary)\n",
    "plt.show()"
   ]
  },
  {
   "cell_type": "code",
   "execution_count": 5,
   "metadata": {},
   "outputs": [
    {
     "data": {
      "text/plain": [
       "7"
      ]
     },
     "execution_count": 5,
     "metadata": {},
     "output_type": "execute_result"
    }
   ],
   "source": [
    "y_test[0]"
   ]
  },
  {
   "cell_type": "code",
   "execution_count": 6,
   "metadata": {},
   "outputs": [
    {
     "data": {
      "text/plain": [
       "(60000,)"
      ]
     },
     "execution_count": 6,
     "metadata": {},
     "output_type": "execute_result"
    }
   ],
   "source": [
    "y_train.shape"
   ]
  },
  {
   "cell_type": "code",
   "execution_count": 7,
   "metadata": {},
   "outputs": [],
   "source": [
    "x_train = x_train.reshape(x_train.shape[0],28,28,1)\n",
    "x_test = x_test.reshape(x_test.shape[0],28,28,1)\n",
    "input_shape = (28,28,1)"
   ]
  },
  {
   "cell_type": "code",
   "execution_count": 8,
   "metadata": {},
   "outputs": [
    {
     "data": {
      "text/plain": [
       "(60000, 28, 28, 1)"
      ]
     },
     "execution_count": 8,
     "metadata": {},
     "output_type": "execute_result"
    }
   ],
   "source": [
    "x_train.shape"
   ]
  },
  {
   "cell_type": "code",
   "execution_count": 9,
   "metadata": {},
   "outputs": [],
   "source": [
    "# convert class vectors to binary class matrices\n",
    "y_train = keras.utils.to_categorical(y_train,10)\n",
    "y_test = keras.utils.to_categorical(y_test,10)"
   ]
  },
  {
   "cell_type": "code",
   "execution_count": 10,
   "metadata": {},
   "outputs": [
    {
     "data": {
      "text/plain": [
       "array([[0., 0., 0., ..., 0., 0., 0.],\n",
       "       [1., 0., 0., ..., 0., 0., 0.],\n",
       "       [0., 0., 0., ..., 0., 0., 0.],\n",
       "       ...,\n",
       "       [0., 0., 0., ..., 0., 0., 0.],\n",
       "       [0., 0., 0., ..., 0., 0., 0.],\n",
       "       [0., 0., 0., ..., 0., 1., 0.]], dtype=float32)"
      ]
     },
     "execution_count": 10,
     "metadata": {},
     "output_type": "execute_result"
    }
   ],
   "source": [
    "y_train"
   ]
  },
  {
   "cell_type": "code",
   "execution_count": 11,
   "metadata": {},
   "outputs": [],
   "source": [
    "x_train = x_train.astype('float32')\n",
    "x_test = x_test.astype('float32')\n"
   ]
  },
  {
   "cell_type": "code",
   "execution_count": 12,
   "metadata": {},
   "outputs": [
    {
     "data": {
      "text/plain": [
       "60000"
      ]
     },
     "execution_count": 12,
     "metadata": {},
     "output_type": "execute_result"
    }
   ],
   "source": [
    "x_train.shape[0]"
   ]
  },
  {
   "cell_type": "code",
   "execution_count": 13,
   "metadata": {},
   "outputs": [],
   "source": [
    "batch_size = 128\n",
    "num_classes = 10\n",
    "epochs = 100"
   ]
  },
  {
   "cell_type": "markdown",
   "metadata": {},
   "source": [
    "### Build Model"
   ]
  },
  {
   "cell_type": "code",
   "execution_count": 14,
   "metadata": {},
   "outputs": [],
   "source": [
    "model = keras.models.Sequential()\n",
    "model.add(keras.layers.Conv2D(32,kernel_size=(5,5),activation='relu', input_shape=input_shape))\n",
    "model.add(keras.layers.MaxPooling2D(pool_size=(2,2)))\n",
    "model.add(keras.layers.Conv2D(64,(3,3),activation='relu'))\n",
    "model.add(keras.layers.MaxPooling2D(pool_size=(2,2)))\n",
    "model.add(keras.layers.Flatten())\n",
    "model.add(keras.layers.Dense(128,activation='relu'))\n",
    "model.add(keras.layers.Dropout(0.3))\n",
    "model.add(keras.layers.Dense(64,activation='relu'))\n",
    "model.add(keras.layers.Dropout(0.5))\n",
    "model.add(keras.layers.Dense(num_classes,activation='softmax'))\n"
   ]
  },
  {
   "cell_type": "code",
   "execution_count": 15,
   "metadata": {},
   "outputs": [],
   "source": [
    "model.compile(loss=keras.losses.categorical_crossentropy,optimizer=keras.optimizers.Adadelta(),metrics=['accuracy'])"
   ]
  },
  {
   "cell_type": "code",
   "execution_count": 16,
   "metadata": {},
   "outputs": [
    {
     "name": "stdout",
     "output_type": "stream",
     "text": [
      "Train on 60000 samples, validate on 10000 samples\n",
      "Epoch 1/100\n",
      "60000/60000 [==============================] - 18s 297us/sample - loss: 32.8682 - accuracy: 0.0941 - val_loss: 10.0160 - val_accuracy: 0.1232\n",
      "Epoch 2/100\n",
      "60000/60000 [==============================] - 17s 275us/sample - loss: 17.5219 - accuracy: 0.1187 - val_loss: 4.9586 - val_accuracy: 0.2083\n",
      "Epoch 3/100\n",
      "60000/60000 [==============================] - 18s 302us/sample - loss: 11.0037 - accuracy: 0.1442 - val_loss: 3.2304 - val_accuracy: 0.2843\n",
      "Epoch 4/100\n",
      "60000/60000 [==============================] - 17s 278us/sample - loss: 7.8187 - accuracy: 0.1644 - val_loss: 2.4861 - val_accuracy: 0.3290\n",
      "Epoch 5/100\n",
      "60000/60000 [==============================] - 17s 276us/sample - loss: 5.9996 - accuracy: 0.1850 - val_loss: 2.1134 - val_accuracy: 0.3623\n",
      "Epoch 6/100\n",
      "60000/60000 [==============================] - 17s 281us/sample - loss: 4.8435 - accuracy: 0.2021 - val_loss: 1.8907 - val_accuracy: 0.3947\n",
      "Epoch 7/100\n",
      "60000/60000 [==============================] - 17s 288us/sample - loss: 4.0065 - accuracy: 0.2147 - val_loss: 1.7665 - val_accuracy: 0.4180\n",
      "Epoch 8/100\n",
      "60000/60000 [==============================] - 17s 288us/sample - loss: 3.3683 - accuracy: 0.2244 - val_loss: 1.7091 - val_accuracy: 0.4244\n",
      "Epoch 9/100\n",
      "60000/60000 [==============================] - 18s 295us/sample - loss: 2.9040 - accuracy: 0.2322 - val_loss: 1.7013 - val_accuracy: 0.4248\n",
      "Epoch 10/100\n",
      "60000/60000 [==============================] - 17s 277us/sample - loss: 2.5774 - accuracy: 0.2366 - val_loss: 1.7242 - val_accuracy: 0.4227\n",
      "Epoch 11/100\n",
      "60000/60000 [==============================] - 17s 284us/sample - loss: 2.4019 - accuracy: 0.2399 - val_loss: 1.7408 - val_accuracy: 0.4258\n",
      "Epoch 12/100\n",
      "60000/60000 [==============================] - 17s 285us/sample - loss: 2.2749 - accuracy: 0.2546 - val_loss: 1.7373 - val_accuracy: 0.4378\n",
      "Epoch 13/100\n",
      "60000/60000 [==============================] - 18s 292us/sample - loss: 2.2005 - accuracy: 0.2631 - val_loss: 1.7270 - val_accuracy: 0.4502\n",
      "Epoch 14/100\n",
      "60000/60000 [==============================] - 17s 278us/sample - loss: 2.1510 - accuracy: 0.2763 - val_loss: 1.6991 - val_accuracy: 0.4717\n",
      "Epoch 15/100\n",
      "60000/60000 [==============================] - 17s 280us/sample - loss: 2.1139 - accuracy: 0.2871 - val_loss: 1.6629 - val_accuracy: 0.4921\n",
      "Epoch 16/100\n",
      "60000/60000 [==============================] - 17s 284us/sample - loss: 2.0753 - accuracy: 0.2991 - val_loss: 1.6332 - val_accuracy: 0.5081\n",
      "Epoch 17/100\n",
      "60000/60000 [==============================] - 17s 276us/sample - loss: 2.0405 - accuracy: 0.3082 - val_loss: 1.6015 - val_accuracy: 0.5229\n",
      "Epoch 18/100\n",
      "60000/60000 [==============================] - 17s 283us/sample - loss: 2.0054 - accuracy: 0.3204 - val_loss: 1.5630 - val_accuracy: 0.5366\n",
      "Epoch 19/100\n",
      "60000/60000 [==============================] - 17s 278us/sample - loss: 1.9874 - accuracy: 0.3280 - val_loss: 1.5296 - val_accuracy: 0.5504\n",
      "Epoch 20/100\n",
      "60000/60000 [==============================] - 17s 279us/sample - loss: 1.9499 - accuracy: 0.3402 - val_loss: 1.4931 - val_accuracy: 0.5612\n",
      "Epoch 21/100\n",
      "60000/60000 [==============================] - 17s 286us/sample - loss: 1.9257 - accuracy: 0.3471 - val_loss: 1.4529 - val_accuracy: 0.5744\n",
      "Epoch 22/100\n",
      "60000/60000 [==============================] - 17s 278us/sample - loss: 1.8984 - accuracy: 0.3578 - val_loss: 1.4206 - val_accuracy: 0.5855\n",
      "Epoch 23/100\n",
      "60000/60000 [==============================] - 17s 281us/sample - loss: 1.8889 - accuracy: 0.3611 - val_loss: 1.3879 - val_accuracy: 0.5960\n",
      "Epoch 24/100\n",
      "60000/60000 [==============================] - 17s 277us/sample - loss: 1.8522 - accuracy: 0.3748 - val_loss: 1.3514 - val_accuracy: 0.6054\n",
      "Epoch 25/100\n",
      "60000/60000 [==============================] - 17s 278us/sample - loss: 1.8331 - accuracy: 0.3803 - val_loss: 1.3213 - val_accuracy: 0.6165\n",
      "Epoch 26/100\n",
      "60000/60000 [==============================] - 17s 276us/sample - loss: 1.8133 - accuracy: 0.3867 - val_loss: 1.2881 - val_accuracy: 0.6291\n",
      "Epoch 27/100\n",
      "60000/60000 [==============================] - 17s 282us/sample - loss: 1.7846 - accuracy: 0.3967 - val_loss: 1.2612 - val_accuracy: 0.6397\n",
      "Epoch 28/100\n",
      "60000/60000 [==============================] - 17s 280us/sample - loss: 1.7674 - accuracy: 0.4049 - val_loss: 1.2348 - val_accuracy: 0.6500\n",
      "Epoch 29/100\n",
      "60000/60000 [==============================] - 17s 282us/sample - loss: 1.7449 - accuracy: 0.4092 - val_loss: 1.2027 - val_accuracy: 0.6611\n",
      "Epoch 30/100\n",
      "60000/60000 [==============================] - 17s 279us/sample - loss: 1.7289 - accuracy: 0.4178 - val_loss: 1.1722 - val_accuracy: 0.6740\n",
      "Epoch 31/100\n",
      "60000/60000 [==============================] - 17s 280us/sample - loss: 1.7066 - accuracy: 0.4257 - val_loss: 1.1457 - val_accuracy: 0.6835\n",
      "Epoch 32/100\n",
      "60000/60000 [==============================] - 17s 277us/sample - loss: 1.6956 - accuracy: 0.4279 - val_loss: 1.1155 - val_accuracy: 0.6962\n",
      "Epoch 33/100\n",
      "60000/60000 [==============================] - 17s 284us/sample - loss: 1.6631 - accuracy: 0.4389 - val_loss: 1.0837 - val_accuracy: 0.7078\n",
      "Epoch 34/100\n",
      "60000/60000 [==============================] - 18s 299us/sample - loss: 1.6540 - accuracy: 0.4455 - val_loss: 1.0609 - val_accuracy: 0.7182\n",
      "Epoch 35/100\n",
      "60000/60000 [==============================] - 17s 287us/sample - loss: 1.6313 - accuracy: 0.4495 - val_loss: 1.0391 - val_accuracy: 0.7285\n",
      "Epoch 36/100\n",
      "60000/60000 [==============================] - 17s 290us/sample - loss: 1.6100 - accuracy: 0.4599 - val_loss: 1.0157 - val_accuracy: 0.7422\n",
      "Epoch 37/100\n",
      "60000/60000 [==============================] - 17s 282us/sample - loss: 1.5998 - accuracy: 0.4604 - val_loss: 0.9952 - val_accuracy: 0.7517\n",
      "Epoch 38/100\n",
      "60000/60000 [==============================] - 17s 278us/sample - loss: 1.5730 - accuracy: 0.4724 - val_loss: 0.9685 - val_accuracy: 0.7593\n",
      "Epoch 39/100\n",
      "60000/60000 [==============================] - 17s 277us/sample - loss: 1.5611 - accuracy: 0.4762 - val_loss: 0.9452 - val_accuracy: 0.7683\n",
      "Epoch 40/100\n",
      "60000/60000 [==============================] - 17s 282us/sample - loss: 1.5472 - accuracy: 0.4836 - val_loss: 0.9234 - val_accuracy: 0.7763\n",
      "Epoch 41/100\n",
      "60000/60000 [==============================] - 17s 281us/sample - loss: 1.5297 - accuracy: 0.4888 - val_loss: 0.9064 - val_accuracy: 0.7809\n",
      "Epoch 42/100\n",
      "60000/60000 [==============================] - 17s 283us/sample - loss: 1.5203 - accuracy: 0.4922 - val_loss: 0.8876 - val_accuracy: 0.7878\n",
      "Epoch 43/100\n",
      "60000/60000 [==============================] - 17s 289us/sample - loss: 1.5026 - accuracy: 0.4969 - val_loss: 0.8688 - val_accuracy: 0.7920\n",
      "Epoch 44/100\n",
      "60000/60000 [==============================] - 17s 282us/sample - loss: 1.4746 - accuracy: 0.5070 - val_loss: 0.8512 - val_accuracy: 0.7989\n",
      "Epoch 45/100\n",
      "60000/60000 [==============================] - 17s 281us/sample - loss: 1.4621 - accuracy: 0.5112 - val_loss: 0.8316 - val_accuracy: 0.8043\n",
      "Epoch 46/100\n",
      "60000/60000 [==============================] - 17s 289us/sample - loss: 1.4403 - accuracy: 0.5194 - val_loss: 0.8109 - val_accuracy: 0.8086\n",
      "Epoch 47/100\n",
      "60000/60000 [==============================] - 18s 295us/sample - loss: 1.4349 - accuracy: 0.5205 - val_loss: 0.7960 - val_accuracy: 0.8112\n",
      "Epoch 48/100\n",
      "60000/60000 [==============================] - 17s 285us/sample - loss: 1.4220 - accuracy: 0.5273 - val_loss: 0.7770 - val_accuracy: 0.8172\n",
      "Epoch 49/100\n",
      "60000/60000 [==============================] - 17s 281us/sample - loss: 1.4013 - accuracy: 0.5355 - val_loss: 0.7663 - val_accuracy: 0.8193\n",
      "Epoch 50/100\n",
      "60000/60000 [==============================] - 17s 290us/sample - loss: 1.3930 - accuracy: 0.5388 - val_loss: 0.7520 - val_accuracy: 0.8235\n",
      "Epoch 51/100\n",
      "60000/60000 [==============================] - 17s 287us/sample - loss: 1.3734 - accuracy: 0.5440 - val_loss: 0.7333 - val_accuracy: 0.8260\n",
      "Epoch 52/100\n",
      "60000/60000 [==============================] - 17s 279us/sample - loss: 1.3637 - accuracy: 0.5488 - val_loss: 0.7168 - val_accuracy: 0.8311\n",
      "Epoch 53/100\n",
      "60000/60000 [==============================] - 17s 288us/sample - loss: 1.3371 - accuracy: 0.5557 - val_loss: 0.7029 - val_accuracy: 0.8336\n",
      "Epoch 54/100\n",
      "60000/60000 [==============================] - 17s 282us/sample - loss: 1.3355 - accuracy: 0.5570 - val_loss: 0.6860 - val_accuracy: 0.8364\n",
      "Epoch 55/100\n",
      "60000/60000 [==============================] - 17s 278us/sample - loss: 1.3215 - accuracy: 0.5607 - val_loss: 0.6805 - val_accuracy: 0.8393\n",
      "Epoch 56/100\n",
      "60000/60000 [==============================] - 17s 279us/sample - loss: 1.3106 - accuracy: 0.5648 - val_loss: 0.6679 - val_accuracy: 0.8413\n",
      "Epoch 57/100\n",
      "60000/60000 [==============================] - 17s 277us/sample - loss: 1.2893 - accuracy: 0.5756 - val_loss: 0.6543 - val_accuracy: 0.8448\n",
      "Epoch 58/100\n",
      "60000/60000 [==============================] - 17s 277us/sample - loss: 1.2821 - accuracy: 0.5764 - val_loss: 0.6474 - val_accuracy: 0.8471\n",
      "Epoch 59/100\n",
      "60000/60000 [==============================] - 17s 275us/sample - loss: 1.2704 - accuracy: 0.5782 - val_loss: 0.6305 - val_accuracy: 0.8504\n",
      "Epoch 60/100\n",
      "60000/60000 [==============================] - 17s 279us/sample - loss: 1.2587 - accuracy: 0.5838 - val_loss: 0.6203 - val_accuracy: 0.8540\n",
      "Epoch 61/100\n",
      "60000/60000 [==============================] - 17s 279us/sample - loss: 1.2463 - accuracy: 0.5885 - val_loss: 0.6089 - val_accuracy: 0.8571\n",
      "Epoch 62/100\n",
      "60000/60000 [==============================] - 17s 280us/sample - loss: 1.2316 - accuracy: 0.5946 - val_loss: 0.6005 - val_accuracy: 0.8582\n",
      "Epoch 63/100\n",
      "60000/60000 [==============================] - 17s 289us/sample - loss: 1.2230 - accuracy: 0.5978 - val_loss: 0.5880 - val_accuracy: 0.8607\n",
      "Epoch 64/100\n",
      "60000/60000 [==============================] - 17s 282us/sample - loss: 1.2089 - accuracy: 0.6032 - val_loss: 0.5782 - val_accuracy: 0.8637\n",
      "Epoch 65/100\n",
      "60000/60000 [==============================] - 17s 279us/sample - loss: 1.1997 - accuracy: 0.6050 - val_loss: 0.5685 - val_accuracy: 0.8662\n",
      "Epoch 66/100\n",
      "60000/60000 [==============================] - 17s 290us/sample - loss: 1.1865 - accuracy: 0.6097 - val_loss: 0.5619 - val_accuracy: 0.8669\n",
      "Epoch 67/100\n",
      "60000/60000 [==============================] - 18s 298us/sample - loss: 1.1764 - accuracy: 0.6144 - val_loss: 0.5526 - val_accuracy: 0.8703\n",
      "Epoch 68/100\n",
      "60000/60000 [==============================] - 18s 292us/sample - loss: 1.1713 - accuracy: 0.6155 - val_loss: 0.5434 - val_accuracy: 0.8741\n",
      "Epoch 69/100\n",
      "60000/60000 [==============================] - 17s 287us/sample - loss: 1.1562 - accuracy: 0.6216 - val_loss: 0.5357 - val_accuracy: 0.8750\n",
      "Epoch 70/100\n",
      "60000/60000 [==============================] - 17s 278us/sample - loss: 1.1442 - accuracy: 0.6266 - val_loss: 0.5269 - val_accuracy: 0.8766\n",
      "Epoch 71/100\n",
      "60000/60000 [==============================] - 17s 281us/sample - loss: 1.1343 - accuracy: 0.6303 - val_loss: 0.5193 - val_accuracy: 0.8782\n",
      "Epoch 72/100\n",
      "60000/60000 [==============================] - 17s 284us/sample - loss: 1.1295 - accuracy: 0.6314 - val_loss: 0.5121 - val_accuracy: 0.8798\n",
      "Epoch 73/100\n",
      "60000/60000 [==============================] - 18s 305us/sample - loss: 1.1184 - accuracy: 0.6350 - val_loss: 0.5017 - val_accuracy: 0.8825\n",
      "Epoch 74/100\n",
      "60000/60000 [==============================] - 18s 300us/sample - loss: 1.1127 - accuracy: 0.6387 - val_loss: 0.4979 - val_accuracy: 0.8833\n",
      "Epoch 75/100\n",
      "60000/60000 [==============================] - 17s 287us/sample - loss: 1.0938 - accuracy: 0.6463 - val_loss: 0.4856 - val_accuracy: 0.8858\n",
      "Epoch 76/100\n",
      "60000/60000 [==============================] - 17s 283us/sample - loss: 1.0899 - accuracy: 0.6454 - val_loss: 0.4796 - val_accuracy: 0.8872\n",
      "Epoch 77/100\n",
      "60000/60000 [==============================] - 17s 278us/sample - loss: 1.0841 - accuracy: 0.6474 - val_loss: 0.4756 - val_accuracy: 0.8878\n",
      "Epoch 78/100\n",
      "60000/60000 [==============================] - 17s 279us/sample - loss: 1.0715 - accuracy: 0.6531 - val_loss: 0.4682 - val_accuracy: 0.8894\n",
      "Epoch 79/100\n",
      "60000/60000 [==============================] - 17s 276us/sample - loss: 1.0671 - accuracy: 0.6513 - val_loss: 0.4658 - val_accuracy: 0.8913\n",
      "Epoch 80/100\n",
      "60000/60000 [==============================] - 17s 277us/sample - loss: 1.0520 - accuracy: 0.6586 - val_loss: 0.4567 - val_accuracy: 0.8929\n",
      "Epoch 81/100\n",
      "60000/60000 [==============================] - 17s 279us/sample - loss: 1.0449 - accuracy: 0.6607 - val_loss: 0.4512 - val_accuracy: 0.8927\n",
      "Epoch 82/100\n",
      "60000/60000 [==============================] - 17s 276us/sample - loss: 1.0433 - accuracy: 0.6607 - val_loss: 0.4419 - val_accuracy: 0.8954\n",
      "Epoch 83/100\n",
      "60000/60000 [==============================] - 17s 275us/sample - loss: 1.0226 - accuracy: 0.6698 - val_loss: 0.4341 - val_accuracy: 0.8962\n",
      "Epoch 84/100\n",
      "60000/60000 [==============================] - 17s 277us/sample - loss: 1.0253 - accuracy: 0.6676 - val_loss: 0.4318 - val_accuracy: 0.8970\n",
      "Epoch 85/100\n",
      "60000/60000 [==============================] - 17s 283us/sample - loss: 1.0124 - accuracy: 0.6734 - val_loss: 0.4257 - val_accuracy: 0.8985\n",
      "Epoch 86/100\n",
      "60000/60000 [==============================] - 17s 281us/sample - loss: 0.9987 - accuracy: 0.6773 - val_loss: 0.4211 - val_accuracy: 0.8984\n",
      "Epoch 87/100\n",
      "60000/60000 [==============================] - 17s 279us/sample - loss: 0.9957 - accuracy: 0.6789 - val_loss: 0.4170 - val_accuracy: 0.9010\n",
      "Epoch 88/100\n",
      "60000/60000 [==============================] - 17s 277us/sample - loss: 0.9870 - accuracy: 0.6815 - val_loss: 0.4087 - val_accuracy: 0.9029\n",
      "Epoch 89/100\n",
      "60000/60000 [==============================] - 17s 282us/sample - loss: 0.9764 - accuracy: 0.6841 - val_loss: 0.4029 - val_accuracy: 0.9043\n",
      "Epoch 90/100\n",
      "60000/60000 [==============================] - 17s 285us/sample - loss: 0.9699 - accuracy: 0.6887 - val_loss: 0.3987 - val_accuracy: 0.9052\n",
      "Epoch 91/100\n",
      "60000/60000 [==============================] - 17s 279us/sample - loss: 0.9740 - accuracy: 0.6870 - val_loss: 0.3971 - val_accuracy: 0.9057\n",
      "Epoch 92/100\n",
      "60000/60000 [==============================] - 16s 275us/sample - loss: 0.9566 - accuracy: 0.6906 - val_loss: 0.3915 - val_accuracy: 0.9057\n",
      "Epoch 93/100\n",
      "60000/60000 [==============================] - 17s 275us/sample - loss: 0.9478 - accuracy: 0.6928 - val_loss: 0.3853 - val_accuracy: 0.9076\n",
      "Epoch 94/100\n",
      "60000/60000 [==============================] - 17s 284us/sample - loss: 0.9515 - accuracy: 0.6962 - val_loss: 0.3838 - val_accuracy: 0.9083\n",
      "Epoch 95/100\n",
      "60000/60000 [==============================] - 18s 293us/sample - loss: 0.9380 - accuracy: 0.6985 - val_loss: 0.3767 - val_accuracy: 0.9093\n",
      "Epoch 96/100\n",
      "60000/60000 [==============================] - 17s 284us/sample - loss: 0.9333 - accuracy: 0.6995 - val_loss: 0.3729 - val_accuracy: 0.9092\n",
      "Epoch 97/100\n",
      "60000/60000 [==============================] - 17s 279us/sample - loss: 0.9206 - accuracy: 0.7043 - val_loss: 0.3684 - val_accuracy: 0.9109\n",
      "Epoch 98/100\n",
      "60000/60000 [==============================] - 17s 291us/sample - loss: 0.9120 - accuracy: 0.7068 - val_loss: 0.3630 - val_accuracy: 0.9125\n",
      "Epoch 99/100\n",
      "60000/60000 [==============================] - 18s 294us/sample - loss: 0.9055 - accuracy: 0.7086 - val_loss: 0.3595 - val_accuracy: 0.9128\n",
      "Epoch 100/100\n",
      "60000/60000 [==============================] - 17s 285us/sample - loss: 0.8953 - accuracy: 0.7137 - val_loss: 0.3560 - val_accuracy: 0.9137\n"
     ]
    }
   ],
   "source": [
    "hist = model.fit(x_train, y_train,batch_size=batch_size,epochs=epochs,verbose=1,validation_data=(x_test, y_test))"
   ]
  },
  {
   "cell_type": "code",
   "execution_count": 17,
   "metadata": {},
   "outputs": [],
   "source": [
    "score = model.evaluate(x_test,y_test,verbose=0)"
   ]
  },
  {
   "cell_type": "code",
   "execution_count": 18,
   "metadata": {},
   "outputs": [
    {
     "data": {
      "text/plain": [
       "[0.35597031599879264, 0.9137]"
      ]
     },
     "execution_count": 18,
     "metadata": {},
     "output_type": "execute_result"
    }
   ],
   "source": [
    "score"
   ]
  },
  {
   "cell_type": "code",
   "execution_count": 19,
   "metadata": {},
   "outputs": [],
   "source": [
    "model.save('handwritten_rec.h5')"
   ]
  },
  {
   "cell_type": "code",
   "execution_count": null,
   "metadata": {},
   "outputs": [],
   "source": []
  }
 ],
 "metadata": {
  "kernelspec": {
   "display_name": "Python 3.7.4 64-bit ('base': conda)",
   "language": "python",
   "name": "python37464bitbaseconda63623a9e62c540d3bd4b7c30cc500549"
  },
  "language_info": {
   "codemirror_mode": {
    "name": "ipython",
    "version": 3
   },
   "file_extension": ".py",
   "mimetype": "text/x-python",
   "name": "python",
   "nbconvert_exporter": "python",
   "pygments_lexer": "ipython3",
   "version": "3.7.4"
  }
 },
 "nbformat": 4,
 "nbformat_minor": 2
}
